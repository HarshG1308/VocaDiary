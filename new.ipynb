{
 "cells": [
  {
   "cell_type": "code",
   "execution_count": 2,
   "id": "b6dddeef",
   "metadata": {},
   "outputs": [
    {
     "name": "stdout",
     "output_type": "stream",
     "text": [
      "Requirement already satisfied: SpeechRecognition in c:\\users\\asus\\appdata\\local\\programs\\python\\python311\\lib\\site-packages (3.14.3)\n",
      "Requirement already satisfied: typing-extensions in c:\\users\\asus\\appdata\\local\\programs\\python\\python311\\lib\\site-packages (from SpeechRecognition) (4.14.1)\n"
     ]
    },
    {
     "name": "stderr",
     "output_type": "stream",
     "text": [
      "\n",
      "[notice] A new release of pip is available: 25.1.1 -> 25.2\n",
      "[notice] To update, run: python.exe -m pip install --upgrade pip\n",
      "\n",
      "[notice] A new release of pip is available: 25.1.1 -> 25.2\n",
      "[notice] To update, run: python.exe -m pip install --upgrade pip\n",
      "ERROR: Invalid requirement: '#': Expected package name at the start of dependency specifier\n",
      "    #\n",
      "    ^\n"
     ]
    }
   ],
   "source": [
    "!pip install SpeechRecognition\n",
    "!pip install PyAudio   # For microphone access (if not already installed)\n"
   ]
  },
  {
   "cell_type": "code",
   "execution_count": 19,
   "id": "27467c9b",
   "metadata": {},
   "outputs": [
    {
     "name": "stdout",
     "output_type": "stream",
     "text": [
      "Talk\n",
      "Time over, thanks\n",
      "Text: my name is Divanshi Chawla\n"
     ]
    }
   ],
   "source": [
    "import speech_recognition as sr\n",
    "\n",
    "# Initialize recognizer\n",
    "recognizer = sr.Recognizer()\n",
    "\n",
    "# Use microphone as input\n",
    "with sr.Microphone() as source:\n",
    "    print(\"Talk\")\n",
    "    audio_text = recognizer.listen(source)\n",
    "    print(\"Time over, thanks\")\n",
    "\n",
    "# Recognize speech using Google Web Speech API\n",
    "try:\n",
    "    final_audio= recognizer.recognize_google(audio_text)\n",
    "    print(\"Text: \" + final_audio)\n",
    "\n",
    "except sr.UnknownValueError:\n",
    "    print(\"Sorry, I did not get that\")\n",
    "except sr.RequestError:\n",
    "    print(\"Sorry, there was an error processing your request\")\n"
   ]
  },
  {
   "cell_type": "code",
   "execution_count": 6,
   "id": "d49836c9",
   "metadata": {},
   "outputs": [
    {
     "name": "stdout",
     "output_type": "stream",
     "text": [
      "Collecting sumy\n",
      "  Downloading sumy-0.11.0-py2.py3-none-any.whl.metadata (7.5 kB)\n",
      "Collecting docopt<0.7,>=0.6.1 (from sumy)\n",
      "  Downloading docopt-0.6.2.tar.gz (25 kB)\n",
      "  Installing build dependencies: started\n",
      "  Installing build dependencies: finished with status 'done'\n",
      "  Getting requirements to build wheel: started\n",
      "  Getting requirements to build wheel: finished with status 'done'\n",
      "  Preparing metadata (pyproject.toml): started\n",
      "  Preparing metadata (pyproject.toml): finished with status 'done'\n",
      "Collecting breadability>=0.1.20 (from sumy)\n",
      "  Downloading breadability-0.1.20.tar.gz (32 kB)\n",
      "  Installing build dependencies: started\n",
      "  Installing build dependencies: finished with status 'done'\n",
      "  Getting requirements to build wheel: started\n",
      "  Getting requirements to build wheel: finished with status 'done'\n",
      "  Preparing metadata (pyproject.toml): started\n",
      "  Preparing metadata (pyproject.toml): finished with status 'done'\n",
      "Collecting requests>=2.7.0 (from sumy)\n",
      "  Downloading requests-2.32.4-py3-none-any.whl.metadata (4.9 kB)\n",
      "Collecting pycountry>=18.2.23 (from sumy)\n",
      "  Downloading pycountry-24.6.1-py3-none-any.whl.metadata (12 kB)\n",
      "Collecting nltk>=3.0.2 (from sumy)\n",
      "  Downloading nltk-3.9.1-py3-none-any.whl.metadata (2.9 kB)\n",
      "Collecting chardet (from breadability>=0.1.20->sumy)\n",
      "  Downloading chardet-5.2.0-py3-none-any.whl.metadata (3.4 kB)\n",
      "Collecting lxml>=2.0 (from breadability>=0.1.20->sumy)\n",
      "  Downloading lxml-6.0.0-cp311-cp311-win_amd64.whl.metadata (6.8 kB)\n",
      "Requirement already satisfied: click in c:\\users\\asus\\appdata\\local\\programs\\python\\python311\\lib\\site-packages (from nltk>=3.0.2->sumy) (8.2.1)\n",
      "Collecting joblib (from nltk>=3.0.2->sumy)\n",
      "  Downloading joblib-1.5.1-py3-none-any.whl.metadata (5.6 kB)\n",
      "Collecting regex>=2021.8.3 (from nltk>=3.0.2->sumy)\n",
      "  Downloading regex-2025.7.34-cp311-cp311-win_amd64.whl.metadata (41 kB)\n",
      "Collecting tqdm (from nltk>=3.0.2->sumy)\n",
      "  Using cached tqdm-4.67.1-py3-none-any.whl.metadata (57 kB)\n",
      "Collecting charset_normalizer<4,>=2 (from requests>=2.7.0->sumy)\n",
      "  Downloading charset_normalizer-3.4.3-cp311-cp311-win_amd64.whl.metadata (37 kB)\n",
      "Collecting idna<4,>=2.5 (from requests>=2.7.0->sumy)\n",
      "  Using cached idna-3.10-py3-none-any.whl.metadata (10 kB)\n",
      "Collecting urllib3<3,>=1.21.1 (from requests>=2.7.0->sumy)\n",
      "  Downloading urllib3-2.5.0-py3-none-any.whl.metadata (6.5 kB)\n",
      "Collecting certifi>=2017.4.17 (from requests>=2.7.0->sumy)\n",
      "  Downloading certifi-2025.8.3-py3-none-any.whl.metadata (2.4 kB)\n",
      "Requirement already satisfied: colorama in c:\\users\\asus\\appdata\\local\\programs\\python\\python311\\lib\\site-packages (from click->nltk>=3.0.2->sumy) (0.4.6)\n",
      "Downloading sumy-0.11.0-py2.py3-none-any.whl (97 kB)\n",
      "Downloading lxml-6.0.0-cp311-cp311-win_amd64.whl (4.0 MB)\n",
      "   ---------------------------------------- 0.0/4.0 MB ? eta -:--:--\n",
      "   ----- ---------------------------------- 0.5/4.0 MB 3.4 MB/s eta 0:00:02\n",
      "   --------------- ------------------------ 1.6/4.0 MB 3.4 MB/s eta 0:00:01\n",
      "   ----------------------- ---------------- 2.4/4.0 MB 3.4 MB/s eta 0:00:01\n",
      "   -------------------------- ------------- 2.6/4.0 MB 3.0 MB/s eta 0:00:01\n",
      "   ------------------------------- -------- 3.1/4.0 MB 3.0 MB/s eta 0:00:01\n",
      "   ------------------------------------ --- 3.7/4.0 MB 2.9 MB/s eta 0:00:01\n",
      "   ---------------------------------------- 4.0/4.0 MB 2.8 MB/s eta 0:00:00\n",
      "Downloading nltk-3.9.1-py3-none-any.whl (1.5 MB)\n",
      "   ---------------------------------------- 0.0/1.5 MB ? eta -:--:--\n",
      "   ------ --------------------------------- 0.3/1.5 MB ? eta -:--:--\n",
      "   -------------------- ------------------- 0.8/1.5 MB 2.8 MB/s eta 0:00:01\n",
      "   ---------------------------------- ----- 1.3/1.5 MB 2.0 MB/s eta 0:00:01\n",
      "   ---------------------------------------- 1.5/1.5 MB 2.0 MB/s eta 0:00:00\n",
      "Downloading pycountry-24.6.1-py3-none-any.whl (6.3 MB)\n",
      "   ---------------------------------------- 0.0/6.3 MB ? eta -:--:--\n",
      "   - -------------------------------------- 0.3/6.3 MB ? eta -:--:--\n",
      "   ---- ----------------------------------- 0.8/6.3 MB 2.1 MB/s eta 0:00:03\n",
      "   -------- ------------------------------- 1.3/6.3 MB 2.0 MB/s eta 0:00:03\n",
      "   --------- ------------------------------ 1.6/6.3 MB 2.0 MB/s eta 0:00:03\n",
      "   ------------- -------------------------- 2.1/6.3 MB 1.9 MB/s eta 0:00:03\n",
      "   -------------- ------------------------- 2.4/6.3 MB 1.9 MB/s eta 0:00:03\n",
      "   ---------------- ----------------------- 2.6/6.3 MB 1.9 MB/s eta 0:00:02\n",
      "   ------------------- -------------------- 3.1/6.3 MB 1.9 MB/s eta 0:00:02\n",
      "   ----------------------- ---------------- 3.7/6.3 MB 1.9 MB/s eta 0:00:02\n",
      "   ------------------------ --------------- 3.9/6.3 MB 1.9 MB/s eta 0:00:02\n",
      "   ---------------------------- ----------- 4.5/6.3 MB 1.9 MB/s eta 0:00:01\n",
      "   ------------------------------- -------- 5.0/6.3 MB 2.0 MB/s eta 0:00:01\n",
      "   --------------------------------- ------ 5.2/6.3 MB 2.0 MB/s eta 0:00:01\n",
      "   ------------------------------------ --- 5.8/6.3 MB 2.0 MB/s eta 0:00:01\n",
      "   ---------------------------------------- 6.3/6.3 MB 2.0 MB/s eta 0:00:00\n",
      "Downloading regex-2025.7.34-cp311-cp311-win_amd64.whl (276 kB)\n",
      "Downloading requests-2.32.4-py3-none-any.whl (64 kB)\n",
      "Downloading charset_normalizer-3.4.3-cp311-cp311-win_amd64.whl (107 kB)\n",
      "Using cached idna-3.10-py3-none-any.whl (70 kB)\n",
      "Downloading urllib3-2.5.0-py3-none-any.whl (129 kB)\n",
      "Downloading certifi-2025.8.3-py3-none-any.whl (161 kB)\n",
      "Downloading chardet-5.2.0-py3-none-any.whl (199 kB)\n",
      "Downloading joblib-1.5.1-py3-none-any.whl (307 kB)\n",
      "Using cached tqdm-4.67.1-py3-none-any.whl (78 kB)\n",
      "Building wheels for collected packages: docopt, breadability\n",
      "  Building wheel for docopt (pyproject.toml): started\n",
      "  Building wheel for docopt (pyproject.toml): finished with status 'done'\n",
      "  Created wheel for docopt: filename=docopt-0.6.2-py2.py3-none-any.whl size=13858 sha256=77e48e5560dc797d82d814456c575431ca982a8e60d5e8759aaf17b39a8b9c37\n",
      "  Stored in directory: c:\\users\\asus\\appdata\\local\\pip\\cache\\wheels\\1a\\b0\\8c\\4b75c4116c31f83c8f9f047231251e13cc74481cca4a78a9ce\n",
      "  Building wheel for breadability (pyproject.toml): started\n",
      "  Building wheel for breadability (pyproject.toml): finished with status 'done'\n",
      "  Created wheel for breadability: filename=breadability-0.1.20-py2.py3-none-any.whl size=21850 sha256=26bac6841603fb9b92a6ca6efe8a360dd694776d346096e3decc18ef2a29be3d\n",
      "  Stored in directory: c:\\users\\asus\\appdata\\local\\pip\\cache\\wheels\\4d\\57\\58\\7e3d7fedf51fe248b7fcee3df6945ae28638e22cddf01eb92b\n",
      "Successfully built docopt breadability\n",
      "Installing collected packages: docopt, urllib3, tqdm, regex, pycountry, lxml, joblib, idna, charset_normalizer, chardet, certifi, requests, nltk, breadability, sumy\n",
      "\n",
      "   -- -------------------------------------  1/15 [urllib3]\n",
      "   -- -------------------------------------  1/15 [urllib3]\n",
      "   -- -------------------------------------  1/15 [urllib3]\n",
      "   -- -------------------------------------  1/15 [urllib3]\n",
      "   -- -------------------------------------  1/15 [urllib3]\n",
      "   ----- ----------------------------------  2/15 [tqdm]\n",
      "   ----- ----------------------------------  2/15 [tqdm]\n",
      "   ----- ----------------------------------  2/15 [tqdm]\n",
      "   ----- ----------------------------------  2/15 [tqdm]\n",
      "   ----- ----------------------------------  2/15 [tqdm]\n",
      "   -------- -------------------------------  3/15 [regex]\n",
      "   -------- -------------------------------  3/15 [regex]\n",
      "   -------- -------------------------------  3/15 [regex]\n",
      "   ---------- -----------------------------  4/15 [pycountry]\n",
      "   ---------- -----------------------------  4/15 [pycountry]\n",
      "   ---------- -----------------------------  4/15 [pycountry]\n",
      "   ---------- -----------------------------  4/15 [pycountry]\n",
      "   ---------- -----------------------------  4/15 [pycountry]\n",
      "   ---------- -----------------------------  4/15 [pycountry]\n",
      "   ------------- --------------------------  5/15 [lxml]\n",
      "   ------------- --------------------------  5/15 [lxml]\n",
      "   ------------- --------------------------  5/15 [lxml]\n",
      "   ------------- --------------------------  5/15 [lxml]\n",
      "   ------------- --------------------------  5/15 [lxml]\n",
      "   ---------------- -----------------------  6/15 [joblib]\n",
      "   ---------------- -----------------------  6/15 [joblib]\n",
      "   ---------------- -----------------------  6/15 [joblib]\n",
      "   ---------------- -----------------------  6/15 [joblib]\n",
      "   ---------------- -----------------------  6/15 [joblib]\n",
      "   ---------------- -----------------------  6/15 [joblib]\n",
      "   ---------------- -----------------------  6/15 [joblib]\n",
      "   ---------------- -----------------------  6/15 [joblib]\n",
      "   ---------------- -----------------------  6/15 [joblib]\n",
      "   ---------------- -----------------------  6/15 [joblib]\n",
      "   ---------------- -----------------------  6/15 [joblib]\n",
      "   ------------------ ---------------------  7/15 [idna]\n",
      "   ------------------ ---------------------  7/15 [idna]\n",
      "   --------------------- ------------------  8/15 [charset_normalizer]\n",
      "   --------------------- ------------------  8/15 [charset_normalizer]\n",
      "   --------------------- ------------------  8/15 [charset_normalizer]\n",
      "   ------------------------ ---------------  9/15 [chardet]\n",
      "   ------------------------ ---------------  9/15 [chardet]\n",
      "   ------------------------ ---------------  9/15 [chardet]\n",
      "   ------------------------ ---------------  9/15 [chardet]\n",
      "   ------------------------ ---------------  9/15 [chardet]\n",
      "   ------------------------ ---------------  9/15 [chardet]\n",
      "   ------------------------ ---------------  9/15 [chardet]\n",
      "   ------------------------ ---------------  9/15 [chardet]\n",
      "   ----------------------------- ---------- 11/15 [requests]\n",
      "   ----------------------------- ---------- 11/15 [requests]\n",
      "   ----------------------------- ---------- 11/15 [requests]\n",
      "   -------------------------------- ------- 12/15 [nltk]\n",
      "   -------------------------------- ------- 12/15 [nltk]\n",
      "   -------------------------------- ------- 12/15 [nltk]\n",
      "   -------------------------------- ------- 12/15 [nltk]\n",
      "   -------------------------------- ------- 12/15 [nltk]\n",
      "   -------------------------------- ------- 12/15 [nltk]\n",
      "   -------------------------------- ------- 12/15 [nltk]\n",
      "   -------------------------------- ------- 12/15 [nltk]\n",
      "   -------------------------------- ------- 12/15 [nltk]\n",
      "   -------------------------------- ------- 12/15 [nltk]\n",
      "   -------------------------------- ------- 12/15 [nltk]\n",
      "   -------------------------------- ------- 12/15 [nltk]\n",
      "   -------------------------------- ------- 12/15 [nltk]\n",
      "   -------------------------------- ------- 12/15 [nltk]\n",
      "   -------------------------------- ------- 12/15 [nltk]\n",
      "   -------------------------------- ------- 12/15 [nltk]\n",
      "   -------------------------------- ------- 12/15 [nltk]\n",
      "   -------------------------------- ------- 12/15 [nltk]\n",
      "   -------------------------------- ------- 12/15 [nltk]\n",
      "   -------------------------------- ------- 12/15 [nltk]\n",
      "   -------------------------------- ------- 12/15 [nltk]\n",
      "   -------------------------------- ------- 12/15 [nltk]\n",
      "   -------------------------------- ------- 12/15 [nltk]\n",
      "   -------------------------------- ------- 12/15 [nltk]\n",
      "   -------------------------------- ------- 12/15 [nltk]\n",
      "   -------------------------------- ------- 12/15 [nltk]\n",
      "   -------------------------------- ------- 12/15 [nltk]\n",
      "   -------------------------------- ------- 12/15 [nltk]\n",
      "   -------------------------------- ------- 12/15 [nltk]\n",
      "   -------------------------------- ------- 12/15 [nltk]\n",
      "   -------------------------------- ------- 12/15 [nltk]\n",
      "   -------------------------------- ------- 12/15 [nltk]\n",
      "   -------------------------------- ------- 12/15 [nltk]\n",
      "   -------------------------------- ------- 12/15 [nltk]\n",
      "   -------------------------------- ------- 12/15 [nltk]\n",
      "   -------------------------------- ------- 12/15 [nltk]\n",
      "   -------------------------------- ------- 12/15 [nltk]\n",
      "   -------------------------------- ------- 12/15 [nltk]\n",
      "   -------------------------------- ------- 12/15 [nltk]\n",
      "   -------------------------------- ------- 12/15 [nltk]\n",
      "   -------------------------------- ------- 12/15 [nltk]\n",
      "   -------------------------------- ------- 12/15 [nltk]\n",
      "   -------------------------------- ------- 12/15 [nltk]\n",
      "   -------------------------------- ------- 12/15 [nltk]\n",
      "   -------------------------------- ------- 12/15 [nltk]\n",
      "   -------------------------------- ------- 12/15 [nltk]\n",
      "   -------------------------------- ------- 12/15 [nltk]\n",
      "   -------------------------------- ------- 12/15 [nltk]\n",
      "   -------------------------------- ------- 12/15 [nltk]\n",
      "   -------------------------------- ------- 12/15 [nltk]\n",
      "   -------------------------------- ------- 12/15 [nltk]\n",
      "   -------------------------------- ------- 12/15 [nltk]\n",
      "   -------------------------------- ------- 12/15 [nltk]\n",
      "   -------------------------------- ------- 12/15 [nltk]\n",
      "   -------------------------------- ------- 12/15 [nltk]\n",
      "   -------------------------------- ------- 12/15 [nltk]\n",
      "   -------------------------------- ------- 12/15 [nltk]\n",
      "   -------------------------------- ------- 12/15 [nltk]\n",
      "   -------------------------------- ------- 12/15 [nltk]\n",
      "   ---------------------------------- ----- 13/15 [breadability]\n",
      "   ---------------------------------- ----- 13/15 [breadability]\n",
      "   ---------------------------------- ----- 13/15 [breadability]\n",
      "   ---------------------------------- ----- 13/15 [breadability]\n",
      "   ------------------------------------- -- 14/15 [sumy]\n",
      "   ------------------------------------- -- 14/15 [sumy]\n",
      "   ------------------------------------- -- 14/15 [sumy]\n",
      "   ------------------------------------- -- 14/15 [sumy]\n",
      "   ------------------------------------- -- 14/15 [sumy]\n",
      "   ------------------------------------- -- 14/15 [sumy]\n",
      "   ------------------------------------- -- 14/15 [sumy]\n",
      "   ------------------------------------- -- 14/15 [sumy]\n",
      "   ------------------------------------- -- 14/15 [sumy]\n",
      "   ------------------------------------- -- 14/15 [sumy]\n",
      "   ------------------------------------- -- 14/15 [sumy]\n",
      "   ------------------------------------- -- 14/15 [sumy]\n",
      "   ------------------------------------- -- 14/15 [sumy]\n",
      "   ---------------------------------------- 15/15 [sumy]\n",
      "\n",
      "Successfully installed breadability-0.1.20 certifi-2025.8.3 chardet-5.2.0 charset_normalizer-3.4.3 docopt-0.6.2 idna-3.10 joblib-1.5.1 lxml-6.0.0 nltk-3.9.1 pycountry-24.6.1 regex-2025.7.34 requests-2.32.4 sumy-0.11.0 tqdm-4.67.1 urllib3-2.5.0\n"
     ]
    },
    {
     "name": "stderr",
     "output_type": "stream",
     "text": [
      "\n",
      "[notice] A new release of pip is available: 25.1.1 -> 25.2\n",
      "[notice] To update, run: python.exe -m pip install --upgrade pip\n"
     ]
    },
    {
     "name": "stdout",
     "output_type": "stream",
     "text": [
      "Requirement already satisfied: nltk in c:\\users\\asus\\appdata\\local\\programs\\python\\python311\\lib\\site-packages (3.9.1)\n",
      "Requirement already satisfied: click in c:\\users\\asus\\appdata\\local\\programs\\python\\python311\\lib\\site-packages (from nltk) (8.2.1)\n",
      "Requirement already satisfied: joblib in c:\\users\\asus\\appdata\\local\\programs\\python\\python311\\lib\\site-packages (from nltk) (1.5.1)\n",
      "Requirement already satisfied: regex>=2021.8.3 in c:\\users\\asus\\appdata\\local\\programs\\python\\python311\\lib\\site-packages (from nltk) (2025.7.34)\n",
      "Requirement already satisfied: tqdm in c:\\users\\asus\\appdata\\local\\programs\\python\\python311\\lib\\site-packages (from nltk) (4.67.1)\n",
      "Requirement already satisfied: colorama in c:\\users\\asus\\appdata\\local\\programs\\python\\python311\\lib\\site-packages (from click->nltk) (0.4.6)\n"
     ]
    },
    {
     "name": "stderr",
     "output_type": "stream",
     "text": [
      "\n",
      "[notice] A new release of pip is available: 25.1.1 -> 25.2\n",
      "[notice] To update, run: python.exe -m pip install --upgrade pip\n"
     ]
    }
   ],
   "source": [
    "!pip install sumy\n",
    "!pip install nltk\n"
   ]
  },
  {
   "cell_type": "code",
   "execution_count": 7,
   "id": "0104c0d5",
   "metadata": {},
   "outputs": [
    {
     "name": "stderr",
     "output_type": "stream",
     "text": [
      "[nltk_data] Downloading package punkt to\n",
      "[nltk_data]     C:\\Users\\ASUS\\AppData\\Roaming\\nltk_data...\n",
      "[nltk_data]   Unzipping tokenizers\\punkt.zip.\n"
     ]
    },
    {
     "data": {
      "text/plain": [
       "True"
      ]
     },
     "execution_count": 7,
     "metadata": {},
     "output_type": "execute_result"
    }
   ],
   "source": [
    "import nltk\n",
    "nltk.download('punkt')\n"
   ]
  },
  {
   "cell_type": "code",
   "execution_count": 20,
   "id": "d1691889",
   "metadata": {},
   "outputs": [
    {
     "name": "stdout",
     "output_type": "stream",
     "text": [
      "Summary:  my name is Divanshi Chawla\n"
     ]
    }
   ],
   "source": [
    "# import nltk\n",
    "# nltk.download('punkt_tab')\n",
    "from sumy.parsers.plaintext import PlaintextParser\n",
    "from sumy.nlp.tokenizers import Tokenizer\n",
    "from sumy.summarizers.lsa import LsaSummarizer\n",
    "\n",
    "def summarize_lsa(text, sentence_count=5):\n",
    "    parser = PlaintextParser.from_string(text, Tokenizer(\"english\"))\n",
    "    summarizer = LsaSummarizer()\n",
    "    summary = summarizer(parser.document, sentence_count)\n",
    "    return ' '.join([str(sentence) for sentence in summary])\n",
    "\n",
    "\n",
    "summarized_text = summarize_lsa(final_audio, sentence_count=3)\n",
    "print(\"Summary: \", summarized_text)\n",
    "\n"
   ]
  },
  {
   "cell_type": "code",
   "execution_count": 17,
   "id": "e98f2ca8",
   "metadata": {},
   "outputs": [
    {
     "name": "stdout",
     "output_type": "stream",
     "text": [
      "Collecting textblob\n",
      "  Downloading textblob-0.19.0-py3-none-any.whl.metadata (4.4 kB)\n",
      "Requirement already satisfied: nltk>=3.9 in c:\\users\\asus\\appdata\\local\\programs\\python\\python311\\lib\\site-packages (from textblob) (3.9.1)\n",
      "Requirement already satisfied: click in c:\\users\\asus\\appdata\\local\\programs\\python\\python311\\lib\\site-packages (from nltk>=3.9->textblob) (8.2.1)\n",
      "Requirement already satisfied: joblib in c:\\users\\asus\\appdata\\local\\programs\\python\\python311\\lib\\site-packages (from nltk>=3.9->textblob) (1.5.1)\n",
      "Requirement already satisfied: regex>=2021.8.3 in c:\\users\\asus\\appdata\\local\\programs\\python\\python311\\lib\\site-packages (from nltk>=3.9->textblob) (2025.7.34)\n",
      "Requirement already satisfied: tqdm in c:\\users\\asus\\appdata\\local\\programs\\python\\python311\\lib\\site-packages (from nltk>=3.9->textblob) (4.67.1)\n",
      "Requirement already satisfied: colorama in c:\\users\\asus\\appdata\\local\\programs\\python\\python311\\lib\\site-packages (from click->nltk>=3.9->textblob) (0.4.6)\n",
      "Downloading textblob-0.19.0-py3-none-any.whl (624 kB)\n",
      "   ---------------------------------------- 0.0/624.3 kB ? eta -:--:--\n",
      "   --------------------------------------- 624.3/624.3 kB 11.7 MB/s eta 0:00:00\n",
      "Installing collected packages: textblob\n",
      "Successfully installed textblob-0.19.0\n"
     ]
    },
    {
     "name": "stderr",
     "output_type": "stream",
     "text": [
      "\n",
      "[notice] A new release of pip is available: 25.1.1 -> 25.2\n",
      "[notice] To update, run: python.exe -m pip install --upgrade pip\n"
     ]
    }
   ],
   "source": [
    "!pip install textblob"
   ]
  },
  {
   "cell_type": "code",
   "execution_count": 21,
   "id": "97fc1182",
   "metadata": {},
   "outputs": [
    {
     "name": "stdout",
     "output_type": "stream",
     "text": [
      "Neutral sentiment\n"
     ]
    }
   ],
   "source": [
    "from textblob import TextBlob\n",
    "\n",
    "\n",
    "analysis = TextBlob(summarized_text)\n",
    "sentiment_polarity = analysis.sentiment.polarity  # range: -1 (negative) to 1 (positive)\n",
    "\n",
    "if sentiment_polarity > 0:\n",
    "    print(\"Positive sentiment\")\n",
    "elif sentiment_polarity < 0:\n",
    "    print(\"Negative sentiment\")\n",
    "else:\n",
    "    print(\"Neutral sentiment\")\n"
   ]
  }
 ],
 "metadata": {
  "kernelspec": {
   "display_name": "Python 3",
   "language": "python",
   "name": "python3"
  },
  "language_info": {
   "codemirror_mode": {
    "name": "ipython",
    "version": 3
   },
   "file_extension": ".py",
   "mimetype": "text/x-python",
   "name": "python",
   "nbconvert_exporter": "python",
   "pygments_lexer": "ipython3",
   "version": "3.11.0"
  }
 },
 "nbformat": 4,
 "nbformat_minor": 5
}
